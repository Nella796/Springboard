{
 "cells": [
  {
   "cell_type": "code",
   "execution_count": 12,
   "metadata": {},
   "outputs": [],
   "source": [
    "import pandas as pd\n",
    "import numpy as np\n",
    "import matplotlib.pyplot as plt\n",
    "import seaborn as sns\n",
    "from scipy.stats import chi2_contingency"
   ]
  },
  {
   "cell_type": "code",
   "execution_count": 7,
   "metadata": {},
   "outputs": [],
   "source": [
    "df = pd.read_csv('HR-Employee-Attrition.csv')"
   ]
  },
  {
   "cell_type": "code",
   "execution_count": 8,
   "metadata": {
    "scrolled": true
   },
   "outputs": [
    {
     "data": {
      "text/html": [
       "<div>\n",
       "<style scoped>\n",
       "    .dataframe tbody tr th:only-of-type {\n",
       "        vertical-align: middle;\n",
       "    }\n",
       "\n",
       "    .dataframe tbody tr th {\n",
       "        vertical-align: top;\n",
       "    }\n",
       "\n",
       "    .dataframe thead th {\n",
       "        text-align: right;\n",
       "    }\n",
       "</style>\n",
       "<table border=\"1\" class=\"dataframe\">\n",
       "  <thead>\n",
       "    <tr style=\"text-align: right;\">\n",
       "      <th></th>\n",
       "      <th>Unnamed: 0</th>\n",
       "      <th>Age</th>\n",
       "      <th>Attrition</th>\n",
       "      <th>BusinessTravel</th>\n",
       "      <th>DailyRate</th>\n",
       "      <th>Department</th>\n",
       "      <th>DistanceFromHome</th>\n",
       "      <th>Education</th>\n",
       "      <th>EducationField</th>\n",
       "      <th>EmployeeCount</th>\n",
       "      <th>...</th>\n",
       "      <th>RelationshipSatisfaction</th>\n",
       "      <th>StandardHours</th>\n",
       "      <th>StockOptionLevel</th>\n",
       "      <th>TotalWorkingYears</th>\n",
       "      <th>TrainingTimesLastYear</th>\n",
       "      <th>WorkLifeBalance</th>\n",
       "      <th>YearsAtCompany</th>\n",
       "      <th>YearsInCurrentRole</th>\n",
       "      <th>YearsSinceLastPromotion</th>\n",
       "      <th>YearsWithCurrManager</th>\n",
       "    </tr>\n",
       "  </thead>\n",
       "  <tbody>\n",
       "    <tr>\n",
       "      <th>0</th>\n",
       "      <td>0</td>\n",
       "      <td>41</td>\n",
       "      <td>Yes</td>\n",
       "      <td>Travel_Rarely</td>\n",
       "      <td>1102</td>\n",
       "      <td>Sales</td>\n",
       "      <td>1</td>\n",
       "      <td>College</td>\n",
       "      <td>Life Sciences</td>\n",
       "      <td>1</td>\n",
       "      <td>...</td>\n",
       "      <td>Low</td>\n",
       "      <td>80</td>\n",
       "      <td>0</td>\n",
       "      <td>8</td>\n",
       "      <td>0</td>\n",
       "      <td>Bad</td>\n",
       "      <td>6</td>\n",
       "      <td>4</td>\n",
       "      <td>0</td>\n",
       "      <td>5</td>\n",
       "    </tr>\n",
       "    <tr>\n",
       "      <th>1</th>\n",
       "      <td>1</td>\n",
       "      <td>49</td>\n",
       "      <td>No</td>\n",
       "      <td>Travel_Frequently</td>\n",
       "      <td>279</td>\n",
       "      <td>Research &amp; Development</td>\n",
       "      <td>8</td>\n",
       "      <td>Below College</td>\n",
       "      <td>Life Sciences</td>\n",
       "      <td>1</td>\n",
       "      <td>...</td>\n",
       "      <td>Very High</td>\n",
       "      <td>80</td>\n",
       "      <td>1</td>\n",
       "      <td>10</td>\n",
       "      <td>3</td>\n",
       "      <td>Better</td>\n",
       "      <td>10</td>\n",
       "      <td>7</td>\n",
       "      <td>1</td>\n",
       "      <td>7</td>\n",
       "    </tr>\n",
       "    <tr>\n",
       "      <th>2</th>\n",
       "      <td>2</td>\n",
       "      <td>37</td>\n",
       "      <td>Yes</td>\n",
       "      <td>Travel_Rarely</td>\n",
       "      <td>1373</td>\n",
       "      <td>Research &amp; Development</td>\n",
       "      <td>2</td>\n",
       "      <td>College</td>\n",
       "      <td>Other</td>\n",
       "      <td>1</td>\n",
       "      <td>...</td>\n",
       "      <td>Medium</td>\n",
       "      <td>80</td>\n",
       "      <td>0</td>\n",
       "      <td>7</td>\n",
       "      <td>3</td>\n",
       "      <td>Better</td>\n",
       "      <td>0</td>\n",
       "      <td>0</td>\n",
       "      <td>0</td>\n",
       "      <td>0</td>\n",
       "    </tr>\n",
       "    <tr>\n",
       "      <th>3</th>\n",
       "      <td>3</td>\n",
       "      <td>33</td>\n",
       "      <td>No</td>\n",
       "      <td>Travel_Frequently</td>\n",
       "      <td>1392</td>\n",
       "      <td>Research &amp; Development</td>\n",
       "      <td>3</td>\n",
       "      <td>Master</td>\n",
       "      <td>Life Sciences</td>\n",
       "      <td>1</td>\n",
       "      <td>...</td>\n",
       "      <td>High</td>\n",
       "      <td>80</td>\n",
       "      <td>0</td>\n",
       "      <td>8</td>\n",
       "      <td>3</td>\n",
       "      <td>Better</td>\n",
       "      <td>8</td>\n",
       "      <td>7</td>\n",
       "      <td>3</td>\n",
       "      <td>0</td>\n",
       "    </tr>\n",
       "    <tr>\n",
       "      <th>4</th>\n",
       "      <td>4</td>\n",
       "      <td>27</td>\n",
       "      <td>No</td>\n",
       "      <td>Travel_Rarely</td>\n",
       "      <td>591</td>\n",
       "      <td>Research &amp; Development</td>\n",
       "      <td>2</td>\n",
       "      <td>Below College</td>\n",
       "      <td>Medical</td>\n",
       "      <td>1</td>\n",
       "      <td>...</td>\n",
       "      <td>Very High</td>\n",
       "      <td>80</td>\n",
       "      <td>1</td>\n",
       "      <td>6</td>\n",
       "      <td>3</td>\n",
       "      <td>Better</td>\n",
       "      <td>2</td>\n",
       "      <td>2</td>\n",
       "      <td>2</td>\n",
       "      <td>2</td>\n",
       "    </tr>\n",
       "  </tbody>\n",
       "</table>\n",
       "<p>5 rows × 36 columns</p>\n",
       "</div>"
      ],
      "text/plain": [
       "   Unnamed: 0  Age Attrition     BusinessTravel  DailyRate  \\\n",
       "0           0   41       Yes      Travel_Rarely       1102   \n",
       "1           1   49        No  Travel_Frequently        279   \n",
       "2           2   37       Yes      Travel_Rarely       1373   \n",
       "3           3   33        No  Travel_Frequently       1392   \n",
       "4           4   27        No      Travel_Rarely        591   \n",
       "\n",
       "               Department  DistanceFromHome      Education EducationField  \\\n",
       "0                   Sales                 1        College  Life Sciences   \n",
       "1  Research & Development                 8  Below College  Life Sciences   \n",
       "2  Research & Development                 2        College          Other   \n",
       "3  Research & Development                 3         Master  Life Sciences   \n",
       "4  Research & Development                 2  Below College        Medical   \n",
       "\n",
       "   EmployeeCount  ...  RelationshipSatisfaction StandardHours  \\\n",
       "0              1  ...                       Low            80   \n",
       "1              1  ...                 Very High            80   \n",
       "2              1  ...                    Medium            80   \n",
       "3              1  ...                      High            80   \n",
       "4              1  ...                 Very High            80   \n",
       "\n",
       "  StockOptionLevel  TotalWorkingYears TrainingTimesLastYear  WorkLifeBalance  \\\n",
       "0                0                  8                     0              Bad   \n",
       "1                1                 10                     3           Better   \n",
       "2                0                  7                     3           Better   \n",
       "3                0                  8                     3           Better   \n",
       "4                1                  6                     3           Better   \n",
       "\n",
       "  YearsAtCompany YearsInCurrentRole YearsSinceLastPromotion  \\\n",
       "0              6                  4                       0   \n",
       "1             10                  7                       1   \n",
       "2              0                  0                       0   \n",
       "3              8                  7                       3   \n",
       "4              2                  2                       2   \n",
       "\n",
       "   YearsWithCurrManager  \n",
       "0                     5  \n",
       "1                     7  \n",
       "2                     0  \n",
       "3                     0  \n",
       "4                     2  \n",
       "\n",
       "[5 rows x 36 columns]"
      ]
     },
     "execution_count": 8,
     "metadata": {},
     "output_type": "execute_result"
    }
   ],
   "source": [
    "df.head()"
   ]
  },
  {
   "cell_type": "code",
   "execution_count": 2,
   "metadata": {},
   "outputs": [],
   "source": [
    "def stacked_bar(df, cat1, cat2, condition, width = .35, rotation = 45, label1 = '', label2 = ''):\n",
    "    df1 = df[df[cat2] == condition]\n",
    "    df2 = df[df[cat2] != condition]\n",
    "    \n",
    "    dict1 = df1[cat1].value_counts().to_dict()\n",
    "    dict2 = df2[cat1].value_counts().to_dict()\n",
    "    \n",
    "    key1 = dict1.keys()\n",
    "    key2 = dict2.keys()\n",
    "    \n",
    "    value1 = list(dict1.values())\n",
    "    value2 = list(dict2.values())\n",
    "    \n",
    "        \n",
    "    plt.bar(key1, value1, width = width, color = 'blue', label = 'Non Attrition')\n",
    "    plt.bar(key2, value2, width = width, bottom = value1, color = 'red', label = 'Attrition')\n",
    "    plt.xlabel = 'Department'\n",
    "    plt.ylabel = 'Respondents'\n",
    "    plt.xticks(rotation = rotation)\n",
    "    plt.legend()\n",
    "    plt.show()"
   ]
  },
  {
   "cell_type": "code",
   "execution_count": 3,
   "metadata": {},
   "outputs": [],
   "source": [
    "def stacked_bar_modified(df, cat1, cat2, condition, width = .35, rotation = 45, label1 = '', label2 = ''):\n",
    "    df1 = df[df[cat2] == condition]\n",
    "    df2 = df[df[cat2] != condition]\n",
    "    \n",
    "    dict1 = df1[cat1].value_counts().to_dict()\n",
    "    dict2 = df2[cat1].value_counts().to_dict()\n",
    "    \n",
    "    key1 = sorted(dict1)\n",
    "    key2 = sorted(dict2)\n",
    "    \n",
    "    value1 = []\n",
    "    value2 = []\n",
    "    \n",
    "    for value in key1:\n",
    "        value1.append(dict1[value])\n",
    "    for value in key2:\n",
    "        value2.append(dict2[value])\n",
    "    \n",
    "        \n",
    "    plt.bar(key1, value1, width = width, color = 'blue', label = 'Non Attrition')\n",
    "    plt.bar(key2, value2, width = width, bottom = value1, color = 'red', label = 'Attrition')\n",
    "    plt.xlabel = 'Department'\n",
    "    plt.ylabel = 'Respondents'\n",
    "    plt.xticks(rotation = rotation)\n",
    "    plt.legend()\n",
    "    plt.show()"
   ]
  },
  {
   "cell_type": "code",
   "execution_count": 82,
   "metadata": {
    "scrolled": false
   },
   "outputs": [
    {
     "data": {
      "image/png": "[encoded data removed]",
      "text/plain": [
       "<Figure size 432x288 with 1 Axes>"
      ]
     },
     "metadata": {
      "needs_background": "light"
     },
     "output_type": "display_data"
    }
   ],
   "source": [
    "stacked_bar(df, 'Department', 'Attrition', 'No')"
   ]
  },
  {
   "cell_type": "code",
   "execution_count": 86,
   "metadata": {},
   "outputs": [
    {
     "data": {
      "image/png": "[encoded data removed]",
      "text/plain": [
       "<Figure size 432x288 with 1 Axes>"
      ]
     },
     "metadata": {
      "needs_background": "light"
     },
     "output_type": "display_data"
    }
   ],
   "source": [
    "stacked_bar(df, 'WorkLifeBalance', 'Attrition', 'No', width = .5)"
   ]
  },
  {
   "cell_type": "code",
   "execution_count": null,
   "metadata": {},
   "outputs": [],
   "source": []
  },
  {
   "cell_type": "code",
   "execution_count": 126,
   "metadata": {
    "scrolled": false
   },
   "outputs": [
    {
     "data": {
      "image/png": "[encoded data removed]",
      "text/plain": [
       "<Figure size 432x288 with 1 Axes>"
      ]
     },
     "metadata": {
      "needs_background": "light"
     },
     "output_type": "display_data"
    },
    {
     "name": "stdout",
     "output_type": "stream",
     "text": [
      "High         459\n",
      "Very High    432\n",
      "Medium       303\n",
      "Low          276\n",
      "Name: RelationshipSatisfaction, dtype: int64\n",
      "['High', 'Low', 'Medium', 'Very High']\n",
      "[388, 219, 258, 368]\n",
      "['High', 'Low', 'Medium', 'Very High']\n",
      "[71, 57, 45, 64]\n"
     ]
    }
   ],
   "source": [
    "stacked_bar_modified(df, 'RelationshipSatisfaction', 'Attrition', 'No', width = .5)"
   ]
  },
  {
   "cell_type": "markdown",
   "metadata": {},
   "source": [
    "# Chi Squared Tests"
   ]
  },
  {
   "cell_type": "code",
   "execution_count": 19,
   "metadata": {
    "scrolled": true
   },
   "outputs": [
    {
     "data": {
      "text/plain": [
       "(5.241067859713708,\n",
       " 0.1549724437105263,\n",
       " 3,\n",
       " array([[384.99795918,  74.00204082],\n",
       "        [231.50204082,  44.49795918],\n",
       "        [254.14897959,  48.85102041],\n",
       "        [362.35102041,  69.64897959]]))"
      ]
     },
     "execution_count": 19,
     "metadata": {},
     "output_type": "execute_result"
    },
    {
     "data": {
      "image/png": "[encoded data removed]",
      "text/plain": [
       "<Figure size 432x288 with 2 Axes>"
      ]
     },
     "metadata": {
      "needs_background": "light"
     },
     "output_type": "display_data"
    }
   ],
   "source": [
    "relationship_cross = pd.crosstab(df['RelationshipSatisfaction'], df['Attrition'])\n",
    "sns.heatmap(relationship_cross)\n",
    "chi2_contingency(relationship_cross)"
   ]
  },
  {
   "cell_type": "code",
   "execution_count": null,
   "metadata": {},
   "outputs": [],
   "source": [
    "p value of .154"
   ]
  },
  {
   "cell_type": "code",
   "execution_count": 10,
   "metadata": {},
   "outputs": [
    {
     "data": {
      "image/png": "[encoded data removed]",
      "text/plain": [
       "<Figure size 432x288 with 1 Axes>"
      ]
     },
     "metadata": {
      "needs_background": "light"
     },
     "output_type": "display_data"
    }
   ],
   "source": [
    "stacked_bar(df, 'Education', 'Attrition', 'No', width = .5)"
   ]
  },
  {
   "cell_type": "code",
   "execution_count": 20,
   "metadata": {
    "scrolled": true
   },
   "outputs": [
    {
     "data": {
      "text/plain": [
       "(3.0739613982367193,\n",
       " 0.5455253376565949,\n",
       " 4,\n",
       " array([[479.77959184,  92.22040816],\n",
       "        [142.59183673,  27.40816327],\n",
       "        [236.53469388,  45.46530612],\n",
       "        [ 40.26122449,   7.73877551],\n",
       "        [333.83265306,  64.16734694]]))"
      ]
     },
     "execution_count": 20,
     "metadata": {},
     "output_type": "execute_result"
    },
    {
     "data": {
      "image/png": "[encoded data removed]",
      "text/plain": [
       "<Figure size 432x288 with 2 Axes>"
      ]
     },
     "metadata": {
      "needs_background": "light"
     },
     "output_type": "display_data"
    }
   ],
   "source": [
    "education_cross = pd.crosstab(df['Education'], df['Attrition'])\n",
    "sns.heatmap(education_cross)\n",
    "chi2_contingency(education_cross)"
   ]
  },
  {
   "cell_type": "code",
   "execution_count": 83,
   "metadata": {},
   "outputs": [
    {
     "data": {
      "image/png": "[encoded data removed]",
      "text/plain": [
       "<Figure size 432x288 with 1 Axes>"
      ]
     },
     "metadata": {
      "needs_background": "light"
     },
     "output_type": "display_data"
    }
   ],
   "source": [
    "stacked_bar(df, 'EducationField', 'Attrition', 'No', width = .5)"
   ]
  },
  {
   "cell_type": "code",
   "execution_count": 21,
   "metadata": {},
   "outputs": [
    {
     "data": {
      "text/plain": [
       "(16.024674119585427,\n",
       " 0.006773980139025212,\n",
       " 5,\n",
       " array([[ 22.64693878,   4.35306122],\n",
       "        [508.29795918,  97.70204082],\n",
       "        [133.36530612,  25.63469388],\n",
       "        [389.19183673,  74.80816327],\n",
       "        [ 68.77959184,  13.22040816],\n",
       "        [110.71836735,  21.28163265]]))"
      ]
     },
     "execution_count": 21,
     "metadata": {},
     "output_type": "execute_result"
    },
    {
     "data": {
      "image/png": "[encoded data removed]",
      "text/plain": [
       "<Figure size 432x288 with 2 Axes>"
      ]
     },
     "metadata": {
      "needs_background": "light"
     },
     "output_type": "display_data"
    }
   ],
   "source": [
    "field_cross = pd.crosstab(df['EducationField'], df['Attrition'])\n",
    "sns.heatmap(field_cross)\n",
    "chi2_contingency(field_cross)"
   ]
  }
 ],
 "metadata": {
  "kernelspec": {
   "display_name": "Python 3",
   "language": "python",
   "name": "python3"
  },
  "language_info": {
   "codemirror_mode": {
    "name": "ipython",
    "version": 3
   },
   "file_extension": ".py",
   "mimetype": "text/x-python",
   "name": "python",
   "nbconvert_exporter": "python",
   "pygments_lexer": "ipython3",
   "version": "3.7.7"
  }
 },
 "nbformat": 4,
 "nbformat_minor": 4
}
